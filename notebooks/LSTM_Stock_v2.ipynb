{
 "cells": [
  {
   "cell_type": "markdown",
   "metadata": {},
   "source": [
    "# LSTM Stock v2\n",
    "\n",
    "mutiple value features"
   ]
  },
  {
   "cell_type": "code",
   "execution_count": 1,
   "metadata": {},
   "outputs": [
    {
     "name": "stdout",
     "output_type": "stream",
     "text": [
      "sys.version_info(major=3, minor=6, micro=3, releaselevel='final', serial=0)\n",
      "1.3.0\n"
     ]
    }
   ],
   "source": [
    "%matplotlib inline\n",
    "from pandas_datareader import data\n",
    "import numpy as np\n",
    "import pandas as pd\n",
    "import matplotlib.pyplot as plt\n",
    "import tensorflow as tf\n",
    "import sys\n",
    "print(sys.version_info)\n",
    "print(tf.__version__)"
   ]
  },
  {
   "cell_type": "markdown",
   "metadata": {},
   "source": [
    "## Get Google Stock data from google finance"
   ]
  },
  {
   "cell_type": "code",
   "execution_count": 2,
   "metadata": {},
   "outputs": [
    {
     "data": {
      "text/html": [
       "<div>\n",
       "<style>\n",
       "    .dataframe thead tr:only-child th {\n",
       "        text-align: right;\n",
       "    }\n",
       "\n",
       "    .dataframe thead th {\n",
       "        text-align: left;\n",
       "    }\n",
       "\n",
       "    .dataframe tbody tr th {\n",
       "        vertical-align: top;\n",
       "    }\n",
       "</style>\n",
       "<table border=\"1\" class=\"dataframe\">\n",
       "  <thead>\n",
       "    <tr style=\"text-align: right;\">\n",
       "      <th></th>\n",
       "      <th>Open</th>\n",
       "      <th>High</th>\n",
       "      <th>Low</th>\n",
       "      <th>Close</th>\n",
       "      <th>Volume</th>\n",
       "    </tr>\n",
       "    <tr>\n",
       "      <th>Date</th>\n",
       "      <th></th>\n",
       "      <th></th>\n",
       "      <th></th>\n",
       "      <th></th>\n",
       "      <th></th>\n",
       "    </tr>\n",
       "  </thead>\n",
       "  <tbody>\n",
       "    <tr>\n",
       "      <th>2016-10-17</th>\n",
       "      <td>779.80</td>\n",
       "      <td>785.85</td>\n",
       "      <td>777.50</td>\n",
       "      <td>779.96</td>\n",
       "      <td>1092973</td>\n",
       "    </tr>\n",
       "    <tr>\n",
       "      <th>2016-10-18</th>\n",
       "      <td>787.85</td>\n",
       "      <td>801.61</td>\n",
       "      <td>785.56</td>\n",
       "      <td>795.26</td>\n",
       "      <td>2056903</td>\n",
       "    </tr>\n",
       "    <tr>\n",
       "      <th>2016-10-19</th>\n",
       "      <td>798.86</td>\n",
       "      <td>804.63</td>\n",
       "      <td>797.64</td>\n",
       "      <td>801.56</td>\n",
       "      <td>1766798</td>\n",
       "    </tr>\n",
       "    <tr>\n",
       "      <th>2016-10-20</th>\n",
       "      <td>803.30</td>\n",
       "      <td>803.97</td>\n",
       "      <td>796.03</td>\n",
       "      <td>796.97</td>\n",
       "      <td>1757528</td>\n",
       "    </tr>\n",
       "    <tr>\n",
       "      <th>2016-10-21</th>\n",
       "      <td>795.00</td>\n",
       "      <td>799.50</td>\n",
       "      <td>794.00</td>\n",
       "      <td>799.37</td>\n",
       "      <td>1266181</td>\n",
       "    </tr>\n",
       "    <tr>\n",
       "      <th>2016-10-24</th>\n",
       "      <td>804.90</td>\n",
       "      <td>815.18</td>\n",
       "      <td>804.82</td>\n",
       "      <td>813.11</td>\n",
       "      <td>1697514</td>\n",
       "    </tr>\n",
       "    <tr>\n",
       "      <th>2016-10-25</th>\n",
       "      <td>816.68</td>\n",
       "      <td>816.68</td>\n",
       "      <td>805.14</td>\n",
       "      <td>807.67</td>\n",
       "      <td>1576404</td>\n",
       "    </tr>\n",
       "    <tr>\n",
       "      <th>2016-10-26</th>\n",
       "      <td>806.34</td>\n",
       "      <td>806.98</td>\n",
       "      <td>796.32</td>\n",
       "      <td>799.07</td>\n",
       "      <td>1647733</td>\n",
       "    </tr>\n",
       "    <tr>\n",
       "      <th>2016-10-27</th>\n",
       "      <td>801.00</td>\n",
       "      <td>803.49</td>\n",
       "      <td>791.50</td>\n",
       "      <td>795.35</td>\n",
       "      <td>2749221</td>\n",
       "    </tr>\n",
       "    <tr>\n",
       "      <th>2016-10-28</th>\n",
       "      <td>808.35</td>\n",
       "      <td>815.49</td>\n",
       "      <td>793.59</td>\n",
       "      <td>795.37</td>\n",
       "      <td>4269902</td>\n",
       "    </tr>\n",
       "  </tbody>\n",
       "</table>\n",
       "</div>"
      ],
      "text/plain": [
       "              Open    High     Low   Close   Volume\n",
       "Date                                               \n",
       "2016-10-17  779.80  785.85  777.50  779.96  1092973\n",
       "2016-10-18  787.85  801.61  785.56  795.26  2056903\n",
       "2016-10-19  798.86  804.63  797.64  801.56  1766798\n",
       "2016-10-20  803.30  803.97  796.03  796.97  1757528\n",
       "2016-10-21  795.00  799.50  794.00  799.37  1266181\n",
       "2016-10-24  804.90  815.18  804.82  813.11  1697514\n",
       "2016-10-25  816.68  816.68  805.14  807.67  1576404\n",
       "2016-10-26  806.34  806.98  796.32  799.07  1647733\n",
       "2016-10-27  801.00  803.49  791.50  795.35  2749221\n",
       "2016-10-28  808.35  815.49  793.59  795.37  4269902"
      ]
     },
     "execution_count": 2,
     "metadata": {},
     "output_type": "execute_result"
    }
   ],
   "source": [
    "# As usual, you know what I mean\n",
    "goog = data.DataReader('GOOG', start='2010', end = \"2017\",\n",
    "                       data_source='google')\n",
    "goog.head(10)"
   ]
  },
  {
   "cell_type": "markdown",
   "metadata": {},
   "source": [
    "## Prepare labels\n",
    "\n",
    "use the next day close value as label"
   ]
  },
  {
   "cell_type": "code",
   "execution_count": 3,
   "metadata": {},
   "outputs": [
    {
     "data": {
      "text/html": [
       "<div>\n",
       "<style>\n",
       "    .dataframe thead tr:only-child th {\n",
       "        text-align: right;\n",
       "    }\n",
       "\n",
       "    .dataframe thead th {\n",
       "        text-align: left;\n",
       "    }\n",
       "\n",
       "    .dataframe tbody tr th {\n",
       "        vertical-align: top;\n",
       "    }\n",
       "</style>\n",
       "<table border=\"1\" class=\"dataframe\">\n",
       "  <thead>\n",
       "    <tr style=\"text-align: right;\">\n",
       "      <th></th>\n",
       "      <th>Open</th>\n",
       "      <th>High</th>\n",
       "      <th>Low</th>\n",
       "      <th>Close</th>\n",
       "      <th>Volume</th>\n",
       "      <th>Label</th>\n",
       "    </tr>\n",
       "    <tr>\n",
       "      <th>Date</th>\n",
       "      <th></th>\n",
       "      <th></th>\n",
       "      <th></th>\n",
       "      <th></th>\n",
       "      <th></th>\n",
       "      <th></th>\n",
       "    </tr>\n",
       "  </thead>\n",
       "  <tbody>\n",
       "    <tr>\n",
       "      <th>2016-10-17</th>\n",
       "      <td>779.80</td>\n",
       "      <td>785.85</td>\n",
       "      <td>777.50</td>\n",
       "      <td>779.96</td>\n",
       "      <td>1092973</td>\n",
       "      <td>795.26</td>\n",
       "    </tr>\n",
       "    <tr>\n",
       "      <th>2016-10-18</th>\n",
       "      <td>787.85</td>\n",
       "      <td>801.61</td>\n",
       "      <td>785.56</td>\n",
       "      <td>795.26</td>\n",
       "      <td>2056903</td>\n",
       "      <td>801.56</td>\n",
       "    </tr>\n",
       "    <tr>\n",
       "      <th>2016-10-19</th>\n",
       "      <td>798.86</td>\n",
       "      <td>804.63</td>\n",
       "      <td>797.64</td>\n",
       "      <td>801.56</td>\n",
       "      <td>1766798</td>\n",
       "      <td>796.97</td>\n",
       "    </tr>\n",
       "    <tr>\n",
       "      <th>2016-10-20</th>\n",
       "      <td>803.30</td>\n",
       "      <td>803.97</td>\n",
       "      <td>796.03</td>\n",
       "      <td>796.97</td>\n",
       "      <td>1757528</td>\n",
       "      <td>799.37</td>\n",
       "    </tr>\n",
       "    <tr>\n",
       "      <th>2016-10-21</th>\n",
       "      <td>795.00</td>\n",
       "      <td>799.50</td>\n",
       "      <td>794.00</td>\n",
       "      <td>799.37</td>\n",
       "      <td>1266181</td>\n",
       "      <td>813.11</td>\n",
       "    </tr>\n",
       "  </tbody>\n",
       "</table>\n",
       "</div>"
      ],
      "text/plain": [
       "              Open    High     Low   Close   Volume   Label\n",
       "Date                                                       \n",
       "2016-10-17  779.80  785.85  777.50  779.96  1092973  795.26\n",
       "2016-10-18  787.85  801.61  785.56  795.26  2056903  801.56\n",
       "2016-10-19  798.86  804.63  797.64  801.56  1766798  796.97\n",
       "2016-10-20  803.30  803.97  796.03  796.97  1757528  799.37\n",
       "2016-10-21  795.00  799.50  794.00  799.37  1266181  813.11"
      ]
     },
     "execution_count": 3,
     "metadata": {},
     "output_type": "execute_result"
    }
   ],
   "source": [
    "goog[\"Label\"] = goog[\"Close\"].shift(-1)\n",
    "goog.dropna(inplace=True)\n",
    "goog.head()"
   ]
  },
  {
   "cell_type": "code",
   "execution_count": 4,
   "metadata": {},
   "outputs": [
    {
     "data": {
      "text/plain": [
       "250"
      ]
     },
     "execution_count": 4,
     "metadata": {},
     "output_type": "execute_result"
    }
   ],
   "source": [
    "len(goog)"
   ]
  },
  {
   "cell_type": "code",
   "execution_count": 5,
   "metadata": {},
   "outputs": [],
   "source": [
    "data = goog.values"
   ]
  },
  {
   "cell_type": "markdown",
   "metadata": {},
   "source": [
    "## Global Model parameters"
   ]
  },
  {
   "cell_type": "code",
   "execution_count": 6,
   "metadata": {},
   "outputs": [],
   "source": [
    "rnn_unit: int = 10\n",
    "input_size: int = 5\n",
    "output_size: int = 1\n",
    "learning_rate: float = 0.0006"
   ]
  },
  {
   "cell_type": "code",
   "execution_count": 7,
   "metadata": {},
   "outputs": [],
   "source": [
    "def get_train_data(batch_size=60,time_step=20,train_begin=0,train_end=200):\n",
    "    batch_index=[]\n",
    "    data_train=data[train_begin:train_end]\n",
    "    normalized_train_data=(data_train-np.mean(data_train,axis=0))/np.std(data_train,axis=0)  #\n",
    "    train_x,train_y=[],[]   #\n",
    "    for i in range(len(normalized_train_data)-time_step):\n",
    "        if i % batch_size==0:\n",
    "            batch_index.append(i)\n",
    "        x=normalized_train_data[i:i+time_step,:input_size]\n",
    "        y=normalized_train_data[i:i+time_step,input_size,np.newaxis]\n",
    "        train_x.append(x.tolist())\n",
    "        train_y.append(y.tolist())\n",
    "    batch_index.append((len(normalized_train_data)-time_step))\n",
    "    return batch_index, np.array(train_x), np.array(train_y)"
   ]
  },
  {
   "cell_type": "code",
   "execution_count": 8,
   "metadata": {},
   "outputs": [],
   "source": [
    "def get_test_data(time_step=20,test_begin=200):\n",
    "    data_test=data[test_begin:]\n",
    "    mean=np.mean(data_test,axis=0)\n",
    "    std=np.std(data_test,axis=0)\n",
    "    normalized_test_data=(data_test-mean)/std  #\n",
    "    size=(len(normalized_test_data)+time_step-1)//time_step  #\n",
    "    test_x,test_y=[],[]  \n",
    "    for i in range(size-1):\n",
    "        x=normalized_test_data[i*time_step:(i+1)*time_step,:input_size]\n",
    "        y=normalized_test_data[i*time_step:(i+1)*time_step,input_size]\n",
    "        test_x.append(x.tolist())\n",
    "        test_y.extend(y)\n",
    "    test_x.append((normalized_test_data[(i+1)*time_step:,:input_size]).tolist())\n",
    "    test_y.extend((normalized_test_data[(i+1)*time_step:,input_size]).tolist())\n",
    "    return mean,std,test_x,test_y"
   ]
  },
  {
   "cell_type": "markdown",
   "metadata": {},
   "source": [
    "## Define NN Parameters"
   ]
  },
  {
   "cell_type": "code",
   "execution_count": 9,
   "metadata": {},
   "outputs": [],
   "source": [
    "weights={\n",
    "         'in':tf.Variable(tf.random_normal([input_size,rnn_unit])),\n",
    "         'out':tf.Variable(tf.random_normal([rnn_unit,1]))\n",
    "        }\n",
    "biases={\n",
    "        'in':tf.Variable(tf.constant(0.1,shape=[rnn_unit,])),\n",
    "        'out':tf.Variable(tf.constant(0.1,shape=[1,]))\n",
    "       }"
   ]
  },
  {
   "cell_type": "markdown",
   "metadata": {},
   "source": [
    "## Define LSTM"
   ]
  },
  {
   "cell_type": "code",
   "execution_count": 10,
   "metadata": {},
   "outputs": [],
   "source": [
    "def lstm(X):     \n",
    "    batch_size=tf.shape(X)[0]\n",
    "    time_step=tf.shape(X)[1]\n",
    "    w_in=weights['in']\n",
    "    b_in=biases['in']  \n",
    "    input=tf.reshape(X,[-1,input_size])  #\n",
    "    input_rnn=tf.matmul(input,w_in)+b_in\n",
    "    input_rnn=tf.reshape(input_rnn,[-1,time_step,rnn_unit])  #\n",
    "    cell=tf.nn.rnn_cell.BasicLSTMCell(rnn_unit)\n",
    "    init_state=cell.zero_state(batch_size,dtype=tf.float32)\n",
    "    output_rnn,final_states=tf.nn.dynamic_rnn(cell, input_rnn,initial_state=init_state, dtype=tf.float32) \n",
    "    output=tf.reshape(output_rnn,[-1,rnn_unit]) \n",
    "    w_out=weights['out']\n",
    "    b_out=biases['out']\n",
    "    pred=tf.matmul(output,w_out)+b_out\n",
    "    return pred,final_states"
   ]
  },
  {
   "cell_type": "code",
   "execution_count": 11,
   "metadata": {},
   "outputs": [],
   "source": [
    "def train_lstm(batch_size=80,time_step=15,train_begin=0,train_end=200):\n",
    "    X=tf.placeholder(tf.float32, shape=[None,time_step,input_size])\n",
    "    Y=tf.placeholder(tf.float32, shape=[None,time_step,output_size])\n",
    "    batch_index,train_x,train_y=get_train_data(batch_size,time_step,train_begin,train_end)\n",
    "    pred,_=lstm(X)\n",
    "    #Loss function\n",
    "    loss=tf.reduce_mean(tf.square(tf.reshape(pred,[-1])-tf.reshape(Y, [-1])))\n",
    "    train_op=tf.train.AdamOptimizer(learning_rate).minimize(loss)\n",
    "    saver=tf.train.Saver(tf.global_variables(),max_to_keep=15)\n",
    "    # module_file = tf.train.latest_checkpoint(\".\")    \n",
    "    with tf.Session() as sess:\n",
    "        sess.run(tf.global_variables_initializer())\n",
    "        # saver.restore(sess, module_file)\n",
    "        #Repeate 2000 times\n",
    "        for i in range(2000):\n",
    "            for step in range(len(batch_index)-1):\n",
    "                _, loss_=sess.run([train_op,loss],feed_dict={X:train_x[batch_index[step]:batch_index[step+1]],Y:train_y[batch_index[step]:batch_index[step+1]]}) \n",
    "            if i % 200==0:\n",
    "                print(i,loss_)\n",
    "                print(\"save model:\",saver.save(sess,'stock2.model',global_step=i))"
   ]
  },
  {
   "cell_type": "code",
   "execution_count": 13,
   "metadata": {},
   "outputs": [
    {
     "name": "stdout",
     "output_type": "stream",
     "text": [
      "0 17.8178\n",
      "save model: stock2.model-0\n",
      "200 0.0401946\n",
      "save model: stock2.model-200\n",
      "400 0.027042\n",
      "save model: stock2.model-400\n",
      "600 0.0220925\n",
      "save model: stock2.model-600\n",
      "800 0.0192423\n",
      "save model: stock2.model-800\n",
      "1000 0.0177678\n",
      "save model: stock2.model-1000\n",
      "1200 0.0168812\n",
      "save model: stock2.model-1200\n",
      "1400 0.0161858\n",
      "save model: stock2.model-1400\n",
      "1600 0.0155409\n",
      "save model: stock2.model-1600\n",
      "1800 0.0148406\n",
      "save model: stock2.model-1800\n"
     ]
    }
   ],
   "source": [
    "train_lstm()"
   ]
  },
  {
   "cell_type": "code",
   "execution_count": 12,
   "metadata": {},
   "outputs": [],
   "source": [
    "def prediction(time_step=20):\n",
    "    X=tf.placeholder(tf.float32, shape=[None,time_step,input_size])\n",
    "    mean,std,test_x,test_y=get_test_data(time_step)\n",
    "    pred,_=lstm(X)     \n",
    "    saver=tf.train.Saver(tf.global_variables())\n",
    "    with tf.Session() as sess:\n",
    "        #restore parameter\n",
    "        module_file = tf.train.latest_checkpoint(\".\")\n",
    "        saver.restore(sess, module_file) \n",
    "        test_predict=[]\n",
    "        for step in range(len(test_x)-1):\n",
    "            prob=sess.run(pred,feed_dict={X:[test_x[step]]})   \n",
    "            predict=prob.reshape((-1))\n",
    "            test_predict.extend(predict)\n",
    "        test_y=np.array(test_y)*std[input_size]+mean[input_size]\n",
    "        test_predict=np.array(test_predict)*std[input_size]+mean[input_size]\n",
    "        acc=np.average(np.abs(test_predict-test_y[:len(test_predict)])/test_y[:len(test_predict)])\n",
    "        \n",
    "        plt.plot(list(range(len(test_predict))), test_predict, color='b')\n",
    "        plt.plot(list(range(len(test_y))), test_y,  color='r')\n",
    "        plt.legend([\"predict\", \"reals\"])"
   ]
  },
  {
   "cell_type": "code",
   "execution_count": 13,
   "metadata": {},
   "outputs": [
    {
     "name": "stdout",
     "output_type": "stream",
     "text": [
      "INFO:tensorflow:Restoring parameters from ./stock2.model-1800\n"
     ]
    },
    {
     "data": {
      "image/png": "[encoded data removed]",
      "text/plain": [
       "<matplotlib.figure.Figure at 0x11d55e898>"
      ]
     },
     "metadata": {},
     "output_type": "display_data"
    }
   ],
   "source": [
    "prediction()"
   ]
  },
  {
   "cell_type": "code",
   "execution_count": null,
   "metadata": {},
   "outputs": [],
   "source": []
  }
 ],
 "metadata": {
  "kernelspec": {
   "display_name": "Python 3",
   "language": "python",
   "name": "python3"
  },
  "language_info": {
   "codemirror_mode": {
    "name": "ipython",
    "version": 3
   },
   "file_extension": ".py",
   "mimetype": "text/x-python",
   "name": "python",
   "nbconvert_exporter": "python",
   "pygments_lexer": "ipython3",
   "version": "3.6.3"
  }
 },
 "nbformat": 4,
 "nbformat_minor": 2
}
