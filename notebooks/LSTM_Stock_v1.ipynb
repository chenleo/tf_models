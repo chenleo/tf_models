{
 "cells": [
  {
   "cell_type": "markdown",
   "metadata": {},
   "source": [
    "# LSTM Forcast Stock v1\n",
    "\n",
    "single value feature"
   ]
  },
  {
   "cell_type": "code",
   "execution_count": 1,
   "metadata": {},
   "outputs": [
    {
     "name": "stdout",
     "output_type": "stream",
     "text": [
      "sys.version_info(major=3, minor=6, micro=3, releaselevel='final', serial=0)\n",
      "1.3.0\n"
     ]
    }
   ],
   "source": [
    "%matplotlib inline\n",
    "from pandas_datareader import data\n",
    "import numpy as np\n",
    "import pandas as pd\n",
    "import matplotlib.pyplot as plt\n",
    "import tensorflow as tf\n",
    "import sys\n",
    "print(sys.version_info)\n",
    "print(tf.__version__)"
   ]
  },
  {
   "cell_type": "markdown",
   "metadata": {},
   "source": [
    "## Get Google Stock data from google finance"
   ]
  },
  {
   "cell_type": "code",
   "execution_count": 2,
   "metadata": {},
   "outputs": [
    {
     "data": {
      "text/html": [
       "<div>\n",
       "<style>\n",
       "    .dataframe thead tr:only-child th {\n",
       "        text-align: right;\n",
       "    }\n",
       "\n",
       "    .dataframe thead th {\n",
       "        text-align: left;\n",
       "    }\n",
       "\n",
       "    .dataframe tbody tr th {\n",
       "        vertical-align: top;\n",
       "    }\n",
       "</style>\n",
       "<table border=\"1\" class=\"dataframe\">\n",
       "  <thead>\n",
       "    <tr style=\"text-align: right;\">\n",
       "      <th></th>\n",
       "      <th>Open</th>\n",
       "      <th>High</th>\n",
       "      <th>Low</th>\n",
       "      <th>Close</th>\n",
       "      <th>Volume</th>\n",
       "    </tr>\n",
       "    <tr>\n",
       "      <th>Date</th>\n",
       "      <th></th>\n",
       "      <th></th>\n",
       "      <th></th>\n",
       "      <th></th>\n",
       "      <th></th>\n",
       "    </tr>\n",
       "  </thead>\n",
       "  <tbody>\n",
       "    <tr>\n",
       "      <th>2016-10-17</th>\n",
       "      <td>779.80</td>\n",
       "      <td>785.85</td>\n",
       "      <td>777.50</td>\n",
       "      <td>779.96</td>\n",
       "      <td>1092973</td>\n",
       "    </tr>\n",
       "    <tr>\n",
       "      <th>2016-10-18</th>\n",
       "      <td>787.85</td>\n",
       "      <td>801.61</td>\n",
       "      <td>785.56</td>\n",
       "      <td>795.26</td>\n",
       "      <td>2056903</td>\n",
       "    </tr>\n",
       "    <tr>\n",
       "      <th>2016-10-19</th>\n",
       "      <td>798.86</td>\n",
       "      <td>804.63</td>\n",
       "      <td>797.64</td>\n",
       "      <td>801.56</td>\n",
       "      <td>1766798</td>\n",
       "    </tr>\n",
       "    <tr>\n",
       "      <th>2016-10-20</th>\n",
       "      <td>803.30</td>\n",
       "      <td>803.97</td>\n",
       "      <td>796.03</td>\n",
       "      <td>796.97</td>\n",
       "      <td>1757528</td>\n",
       "    </tr>\n",
       "    <tr>\n",
       "      <th>2016-10-21</th>\n",
       "      <td>795.00</td>\n",
       "      <td>799.50</td>\n",
       "      <td>794.00</td>\n",
       "      <td>799.37</td>\n",
       "      <td>1266181</td>\n",
       "    </tr>\n",
       "    <tr>\n",
       "      <th>2016-10-24</th>\n",
       "      <td>804.90</td>\n",
       "      <td>815.18</td>\n",
       "      <td>804.82</td>\n",
       "      <td>813.11</td>\n",
       "      <td>1697514</td>\n",
       "    </tr>\n",
       "    <tr>\n",
       "      <th>2016-10-25</th>\n",
       "      <td>816.68</td>\n",
       "      <td>816.68</td>\n",
       "      <td>805.14</td>\n",
       "      <td>807.67</td>\n",
       "      <td>1576404</td>\n",
       "    </tr>\n",
       "    <tr>\n",
       "      <th>2016-10-26</th>\n",
       "      <td>806.34</td>\n",
       "      <td>806.98</td>\n",
       "      <td>796.32</td>\n",
       "      <td>799.07</td>\n",
       "      <td>1647733</td>\n",
       "    </tr>\n",
       "    <tr>\n",
       "      <th>2016-10-27</th>\n",
       "      <td>801.00</td>\n",
       "      <td>803.49</td>\n",
       "      <td>791.50</td>\n",
       "      <td>795.35</td>\n",
       "      <td>2749221</td>\n",
       "    </tr>\n",
       "    <tr>\n",
       "      <th>2016-10-28</th>\n",
       "      <td>808.35</td>\n",
       "      <td>815.49</td>\n",
       "      <td>793.59</td>\n",
       "      <td>795.37</td>\n",
       "      <td>4269902</td>\n",
       "    </tr>\n",
       "  </tbody>\n",
       "</table>\n",
       "</div>"
      ],
      "text/plain": [
       "              Open    High     Low   Close   Volume\n",
       "Date                                               \n",
       "2016-10-17  779.80  785.85  777.50  779.96  1092973\n",
       "2016-10-18  787.85  801.61  785.56  795.26  2056903\n",
       "2016-10-19  798.86  804.63  797.64  801.56  1766798\n",
       "2016-10-20  803.30  803.97  796.03  796.97  1757528\n",
       "2016-10-21  795.00  799.50  794.00  799.37  1266181\n",
       "2016-10-24  804.90  815.18  804.82  813.11  1697514\n",
       "2016-10-25  816.68  816.68  805.14  807.67  1576404\n",
       "2016-10-26  806.34  806.98  796.32  799.07  1647733\n",
       "2016-10-27  801.00  803.49  791.50  795.35  2749221\n",
       "2016-10-28  808.35  815.49  793.59  795.37  4269902"
      ]
     },
     "execution_count": 2,
     "metadata": {},
     "output_type": "execute_result"
    }
   ],
   "source": [
    "# It seems that it only offer the data of the full last year by default,\n",
    "# Correct it if you can get more data\n",
    "goog = data.DataReader('GOOG', start='2010', end = \"2017\",\n",
    "                       data_source='google')\n",
    "goog.head(10)"
   ]
  },
  {
   "cell_type": "code",
   "execution_count": 3,
   "metadata": {},
   "outputs": [],
   "source": [
    "goog.to_csv(\"../datas/google_stock.csv\")"
   ]
  },
  {
   "cell_type": "markdown",
   "metadata": {},
   "source": [
    "### Prepare data\n",
    "\n",
    "Use the Close value as data sample"
   ]
  },
  {
   "cell_type": "code",
   "execution_count": 4,
   "metadata": {},
   "outputs": [
    {
     "data": {
      "text/plain": [
       "<matplotlib.axes._subplots.AxesSubplot at 0x11e4c6b38>"
      ]
     },
     "execution_count": 4,
     "metadata": {},
     "output_type": "execute_result"
    },
    {
     "data": {
      "image/png": "[encoded data removed]",
      "text/plain": [
       "<matplotlib.figure.Figure at 0x11192ef98>"
      ]
     },
     "metadata": {},
     "output_type": "display_data"
    }
   ],
   "source": [
    "t_data: pd.Series = goog[\"Close\"]\n",
    "import seaborn\n",
    "seaborn.set()\n",
    "t_data.plot()"
   ]
  },
  {
   "cell_type": "code",
   "execution_count": 5,
   "metadata": {},
   "outputs": [],
   "source": [
    "normalized_data = (t_data - t_data.mean())/ t_data.std()\n",
    "normalized_data = normalized_data[:, np.newaxis]  # expand dimension"
   ]
  },
  {
   "cell_type": "code",
   "execution_count": 6,
   "metadata": {},
   "outputs": [
    {
     "data": {
      "text/plain": [
       "(230, 20, 1)"
      ]
     },
     "execution_count": 6,
     "metadata": {},
     "output_type": "execute_result"
    }
   ],
   "source": [
    "# Generate test data set\n",
    "\n",
    "time_step: int = 20\n",
    "rnn_unit: int = 10\n",
    "batch_size: int = 60\n",
    "input_size: int = 1\n",
    "output_size: int = 1\n",
    "learning_rate: float = 0.0006\n",
    "\n",
    "train_x,train_y=[],[]   #traing set\n",
    "for i in range(len(normalized_data)-time_step-1): ## This is ugly!\n",
    "    x=normalized_data[i:i+time_step]\n",
    "    y=normalized_data[i+1:i+time_step+1]\n",
    "    train_x.append(x.tolist())\n",
    "    train_y.append(y.tolist()) \n",
    "    \n",
    "train_x = np.array(train_x)\n",
    "train_y = np.array(train_y)\n",
    "train_x.shape # (-1, time_step, 1)"
   ]
  },
  {
   "cell_type": "markdown",
   "metadata": {},
   "source": [
    "## Define NN Parameters"
   ]
  },
  {
   "cell_type": "code",
   "execution_count": 7,
   "metadata": {},
   "outputs": [],
   "source": [
    "X=tf.placeholder(tf.float32, [None,time_step,input_size])    #Input tensor\n",
    "Y=tf.placeholder(tf.float32, [None,time_step,output_size])   #Label Tensor\n",
    "\n",
    "#weights, bias\n",
    "weights={\n",
    "         'in':  tf.Variable(tf.random_normal([input_size,rnn_unit])),\n",
    "         'out': tf.Variable(tf.random_normal([rnn_unit,1]))\n",
    "         }\n",
    "biases={\n",
    "        'in':    tf.Variable(tf.constant(0.1,shape=[rnn_unit,])),\n",
    "        'out':   tf.Variable(tf.constant(0.1,shape=[1,]))\n",
    "        }"
   ]
  },
  {
   "cell_type": "markdown",
   "metadata": {},
   "source": [
    "## Define LSTM Network"
   ]
  },
  {
   "cell_type": "code",
   "execution_count": 8,
   "metadata": {},
   "outputs": [],
   "source": [
    "def lstm(batch: int):  \n",
    "    w_in=weights['in']\n",
    "    b_in=biases['in']\n",
    "    input=tf.reshape(X,[-1,input_size])  #\n",
    "    input_rnn=tf.matmul(input,w_in)+b_in\n",
    "    input_rnn=tf.reshape(input_rnn,[-1,time_step,rnn_unit])  #\n",
    "    cell=tf.nn.rnn_cell.BasicLSTMCell(rnn_unit)\n",
    "    init_state=cell.zero_state(batch,dtype=tf.float32)\n",
    "    output_rnn,final_states=tf.nn.dynamic_rnn(cell, input_rnn,initial_state=init_state, dtype=tf.float32)  #\n",
    "    output=tf.reshape(output_rnn,[-1,rnn_unit]) #\n",
    "    w_out=weights['out']\n",
    "    b_out=biases['out']\n",
    "    pred=tf.matmul(output,w_out)+b_out\n",
    "    return pred,final_states"
   ]
  },
  {
   "cell_type": "code",
   "execution_count": 9,
   "metadata": {},
   "outputs": [],
   "source": [
    "def train_lstm():\n",
    "    global batch_size\n",
    "    pred, _ = lstm(batch_size)\n",
    "    #Lost function\n",
    "    loss=tf.reduce_mean(tf.square(tf.reshape(pred,[-1])-tf.reshape(Y, [-1])))\n",
    "    train_op=tf.train.AdamOptimizer(learning_rate).minimize(loss)\n",
    "    saver=tf.train.Saver(tf.global_variables())\n",
    "    with tf.Session() as sess:\n",
    "        sess.run(tf.global_variables_initializer())\n",
    "        #\n",
    "        for i in range(10000):\n",
    "            step=0\n",
    "            start=0\n",
    "            end=start+batch_size\n",
    "            while(end<len(train_x)):\n",
    "                _,loss_=sess.run([train_op,loss],feed_dict={X:train_x[start:end],Y:train_y[start:end]})\n",
    "                start+=batch_size\n",
    "                end=start+batch_size\n",
    "                # \n",
    "                if i % 100 == 0 and step%10==0:\n",
    "                    print(i,step,loss_)\n",
    "                    print(\"Save Model:\",saver.save(sess,'stock.model'))\n",
    "                step+=1"
   ]
  },
  {
   "cell_type": "code",
   "execution_count": 10,
   "metadata": {},
   "outputs": [
    {
     "name": "stdout",
     "output_type": "stream",
     "text": [
      "0 0 0.646594\n",
      "Save Model： stock.model\n",
      "100 0 0.0301775\n",
      "Save Model： stock.model\n",
      "200 0 0.0217941\n",
      "Save Model： stock.model\n",
      "300 0 0.0175115\n",
      "Save Model： stock.model\n",
      "400 0 0.0153061\n",
      "Save Model： stock.model\n",
      "500 0 0.0142083\n",
      "Save Model： stock.model\n",
      "600 0 0.0137025\n",
      "Save Model： stock.model\n",
      "700 0 0.0134916\n",
      "Save Model： stock.model\n",
      "800 0 0.0133987\n",
      "Save Model： stock.model\n",
      "900 0 0.0133474\n",
      "Save Model： stock.model\n",
      "1000 0 0.0133118\n",
      "Save Model： stock.model\n",
      "1100 0 0.0132823\n",
      "Save Model： stock.model\n",
      "1200 0 0.0132523\n",
      "Save Model： stock.model\n",
      "1300 0 0.0132149\n",
      "Save Model： stock.model\n",
      "1400 0 0.0131624\n",
      "Save Model： stock.model\n",
      "1500 0 0.0130925\n",
      "Save Model： stock.model\n",
      "1600 0 0.0130059\n",
      "Save Model： stock.model\n",
      "1700 0 0.0129081\n",
      "Save Model： stock.model\n",
      "1800 0 0.0128035\n",
      "Save Model： stock.model\n",
      "1900 0 0.0126981\n",
      "Save Model： stock.model\n",
      "2000 0 0.0125847\n",
      "Save Model： stock.model\n",
      "2100 0 0.0124678\n",
      "Save Model： stock.model\n",
      "2200 0 0.0123487\n",
      "Save Model： stock.model\n",
      "2300 0 0.0122438\n",
      "Save Model： stock.model\n",
      "2400 0 0.0121517\n",
      "Save Model： stock.model\n",
      "2500 0 0.0120679\n",
      "Save Model： stock.model\n",
      "2600 0 0.011985\n",
      "Save Model： stock.model\n",
      "2700 0 0.011929\n",
      "Save Model： stock.model\n",
      "2800 0 0.0118071\n",
      "Save Model： stock.model\n",
      "2900 0 0.0117028\n",
      "Save Model： stock.model\n",
      "3000 0 0.0115835\n",
      "Save Model： stock.model\n",
      "3100 0 0.0114582\n",
      "Save Model： stock.model\n",
      "3200 0 0.0113594\n",
      "Save Model： stock.model\n",
      "3300 0 0.0112338\n",
      "Save Model： stock.model\n",
      "3400 0 0.0111293\n",
      "Save Model： stock.model\n",
      "3500 0 0.0110136\n",
      "Save Model： stock.model\n",
      "3600 0 0.0108938\n",
      "Save Model： stock.model\n",
      "3700 0 0.0107737\n",
      "Save Model： stock.model\n",
      "3800 0 0.0106544\n",
      "Save Model： stock.model\n",
      "3900 0 0.0105412\n",
      "Save Model： stock.model\n",
      "4000 0 0.0104411\n",
      "Save Model： stock.model\n",
      "4100 0 0.0103877\n",
      "Save Model： stock.model\n",
      "4200 0 0.0103031\n",
      "Save Model： stock.model\n",
      "4300 0 0.0102437\n",
      "Save Model： stock.model\n",
      "4400 0 0.0102723\n",
      "Save Model： stock.model\n",
      "4500 0 0.0101533\n",
      "Save Model： stock.model\n",
      "4600 0 0.0100907\n",
      "Save Model： stock.model\n",
      "4700 0 0.0101066\n",
      "Save Model： stock.model\n",
      "4800 0 0.00999793\n",
      "Save Model： stock.model\n",
      "4900 0 0.00995674\n",
      "Save Model： stock.model\n",
      "5000 0 0.00990831\n",
      "Save Model： stock.model\n",
      "5100 0 0.00986748\n",
      "Save Model： stock.model\n",
      "5200 0 0.00981945\n",
      "Save Model： stock.model\n",
      "5300 0 0.00977511\n",
      "Save Model： stock.model\n",
      "5400 0 0.00972885\n",
      "Save Model： stock.model\n",
      "5500 0 0.00971676\n",
      "Save Model： stock.model\n",
      "5600 0 0.0096436\n",
      "Save Model： stock.model\n",
      "5700 0 0.00958367\n",
      "Save Model： stock.model\n",
      "5800 0 0.00960162\n",
      "Save Model： stock.model\n",
      "5900 0 0.00948442\n",
      "Save Model： stock.model\n",
      "6000 0 0.00943063\n",
      "Save Model： stock.model\n",
      "6100 0 0.00938097\n",
      "Save Model： stock.model\n",
      "6200 0 0.00933258\n",
      "Save Model： stock.model\n",
      "6300 0 0.00927436\n",
      "Save Model： stock.model\n",
      "6400 0 0.00922947\n",
      "Save Model： stock.model\n",
      "6500 0 0.00919485\n",
      "Save Model： stock.model\n",
      "6600 0 0.00920613\n",
      "Save Model： stock.model\n",
      "6700 0 0.00910764\n",
      "Save Model： stock.model\n",
      "6800 0 0.00906988\n",
      "Save Model： stock.model\n",
      "6900 0 0.00904207\n",
      "Save Model： stock.model\n",
      "7000 0 0.00899366\n",
      "Save Model： stock.model\n",
      "7100 0 0.00901113\n",
      "Save Model： stock.model\n",
      "7200 0 0.00894176\n",
      "Save Model： stock.model\n",
      "7300 0 0.00899764\n",
      "Save Model： stock.model\n",
      "7400 0 0.00888794\n",
      "Save Model： stock.model\n",
      "7500 0 0.00886494\n",
      "Save Model： stock.model\n",
      "7600 0 0.00884437\n",
      "Save Model： stock.model\n",
      "7700 0 0.00882998\n",
      "Save Model： stock.model\n",
      "7800 0 0.00881371\n",
      "Save Model： stock.model\n",
      "7900 0 0.00880964\n",
      "Save Model： stock.model\n",
      "8000 0 0.00877886\n",
      "Save Model： stock.model\n",
      "8100 0 0.008771\n",
      "Save Model： stock.model\n",
      "8200 0 0.00874289\n",
      "Save Model： stock.model\n",
      "8300 0 0.00872628\n",
      "Save Model： stock.model\n",
      "8400 0 0.00870137\n",
      "Save Model： stock.model\n",
      "8500 0 0.00869706\n",
      "Save Model： stock.model\n",
      "8600 0 0.00866579\n",
      "Save Model： stock.model\n",
      "8700 0 0.00865348\n",
      "Save Model： stock.model\n",
      "8800 0 0.00865227\n",
      "Save Model： stock.model\n",
      "8900 0 0.00863834\n",
      "Save Model： stock.model\n",
      "9000 0 0.00861096\n",
      "Save Model： stock.model\n",
      "9100 0 0.00860586\n",
      "Save Model： stock.model\n",
      "9200 0 0.00859008\n",
      "Save Model： stock.model\n",
      "9300 0 0.00857309\n",
      "Save Model： stock.model\n",
      "9400 0 0.00856705\n",
      "Save Model： stock.model\n",
      "9500 0 0.00854929\n",
      "Save Model： stock.model\n",
      "9600 0 0.00854132\n",
      "Save Model： stock.model\n",
      "9700 0 0.00852892\n",
      "Save Model： stock.model\n",
      "9800 0 0.00851419\n",
      "Save Model： stock.model\n",
      "9900 0 0.00849769\n",
      "Save Model： stock.model\n"
     ]
    }
   ],
   "source": [
    "train_lstm()"
   ]
  },
  {
   "cell_type": "code",
   "execution_count": 10,
   "metadata": {},
   "outputs": [],
   "source": [
    "def prediction():\n",
    "    pred,_=lstm(1)      #\n",
    "    saver=tf.train.Saver(tf.global_variables())\n",
    "    with tf.Session() as sess:\n",
    "        #\n",
    "        module_file = tf.train.latest_checkpoint(\".\")\n",
    "        saver.restore(sess, module_file) \n",
    "\n",
    "        #\n",
    "        prev_seq=train_x[-1]\n",
    "        predict=[]\n",
    "        #\n",
    "        for i in range(100):\n",
    "            next_seq=sess.run(pred,feed_dict={X:[prev_seq]})\n",
    "            predict.append(next_seq[-1])\n",
    "            #\n",
    "            prev_seq=np.vstack((prev_seq[1:],next_seq[-1]))\n",
    "        #\n",
    "        plt.plot(list(range(len(normalized_data))), normalized_data, color='b')\n",
    "        plt.plot(list(range(len(normalized_data), len(normalized_data) + len(predict))), predict, color='r')\n"
   ]
  },
  {
   "cell_type": "code",
   "execution_count": 11,
   "metadata": {},
   "outputs": [
    {
     "name": "stdout",
     "output_type": "stream",
     "text": [
      "INFO:tensorflow:Restoring parameters from ./stock.model\n"
     ]
    },
    {
     "data": {
      "image/png": "[encoded data removed]",
      "text/plain": [
       "<matplotlib.figure.Figure at 0x11e5afda0>"
      ]
     },
     "metadata": {},
     "output_type": "display_data"
    }
   ],
   "source": [
    "prediction()"
   ]
  },
  {
   "cell_type": "code",
   "execution_count": null,
   "metadata": {},
   "outputs": [],
   "source": []
  },
  {
   "cell_type": "code",
   "execution_count": null,
   "metadata": {},
   "outputs": [],
   "source": []
  }
 ],
 "metadata": {
  "kernelspec": {
   "display_name": "Python 3",
   "language": "python",
   "name": "python3"
  },
  "language_info": {
   "codemirror_mode": {
    "name": "ipython",
    "version": 3
   },
   "file_extension": ".py",
   "mimetype": "text/x-python",
   "name": "python",
   "nbconvert_exporter": "python",
   "pygments_lexer": "ipython3",
   "version": "3.6.3"
  }
 },
 "nbformat": 4,
 "nbformat_minor": 2
}
